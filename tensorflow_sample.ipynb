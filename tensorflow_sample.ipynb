{
 "cells": [
  {
   "cell_type": "code",
   "execution_count": 1,
   "metadata": {
    "collapsed": true
   },
   "outputs": [],
   "source": [
    "import numpy as np\n",
    "import tensorflow as tf\n",
    "\n",
    "trX = np.linspace(-1, 1, 101)\n",
    "trY = 2 * trX + 3 + np.random.randn(*trX.shape) * 0.33\n",
    "\n",
    "def lin_model(X, w, b):\n",
    "    return X * w + b\n",
    "\n",
    "w = tf.Variable([0.])\n",
    "b = tf.Variable([0.])"
   ]
  },
  {
   "cell_type": "code",
   "execution_count": 2,
   "metadata": {
    "collapsed": false
   },
   "outputs": [
    {
     "name": "stdout",
     "output_type": "stream",
     "text": [
      "    0:(w,b)=(    0.0137,     0.0611)\n",
      "  100:(w,b)=(    1.0034,     2.6569)\n",
      "  200:(w,b)=(    1.5037,     3.0011)\n",
      "  300:(w,b)=(    1.7565,     3.0468)\n",
      "  400:(w,b)=(    1.8843,     3.0528)\n",
      "  500:(w,b)=(    1.9489,     3.0536)\n",
      "  600:(w,b)=(    1.9816,     3.0537)\n",
      "  700:(w,b)=(    1.9981,     3.0537)\n",
      "  800:(w,b)=(    2.0064,     3.0537)\n",
      "  900:(w,b)=(    2.0107,     3.0537)\n",
      " 1000:(w,b)=(    2.0128,     3.0537)\n"
     ]
    }
   ],
   "source": [
    "x = tf.placeholder(tf.float32, shape=(101))\n",
    "y = tf.placeholder(tf.float32, shape=(101))\n",
    "y_hypo = lin_model(x, w, b)\n",
    "\n",
    "cost = tf.reduce_mean(tf.square(y_hypo - y))\n",
    "train_step = tf.train.GradientDescentOptimizer(0.01).minimize(cost)\n",
    "\n",
    "# Initializing\n",
    "init = tf.initialize_all_variables()\n",
    "\n",
    "# Train\n",
    "with tf.Session() as sess:\n",
    "    sess.run(init)\n",
    "\n",
    "    for i in range(1001):\n",
    "        sess.run(train_step, feed_dict={x: trX, y: trY})\n",
    "        if i % 100 == 0:\n",
    "            print \"%5d:(w,b)=(%10.4f, %10.4f)\" % (i, sess.run(w), sess.run(b))"
   ]
  },
  {
   "cell_type": "code",
   "execution_count": null,
   "metadata": {
    "collapsed": true
   },
   "outputs": [],
   "source": []
  }
 ],
 "metadata": {
  "kernelspec": {
   "display_name": "Python 2",
   "language": "python",
   "name": "python2"
  },
  "language_info": {
   "codemirror_mode": {
    "name": "ipython",
    "version": 2
   },
   "file_extension": ".py",
   "mimetype": "text/x-python",
   "name": "python",
   "nbconvert_exporter": "python",
   "pygments_lexer": "ipython2",
   "version": "2.7.11"
  }
 },
 "nbformat": 4,
 "nbformat_minor": 0
}
